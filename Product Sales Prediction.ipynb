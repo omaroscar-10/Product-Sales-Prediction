{
 "cells": [
  {
   "cell_type": "markdown",
   "id": "7e518f01",
   "metadata": {},
   "source": [
    "# **1. Introduction**\n",
    "\n",
    "The purpose of marketing is to drive sales and although the goal of each ad campaign will vary, the goal of businesses and companies is to sell more to more people, more often and at higher prices. \n",
    "\n",
    "**Problem:**  Some small and large businesses lose a lot of money on bad marketing campaigns because they are not targeting potential customers.\n",
    "\n",
    "As a small business, we cannot afford to lose money on bad marketing campaigns; we need to get our marketing message directly to prospective consumers, not to everyone.\n",
    "\n",
    "**Solution:** predicting the number of sales can save businesses a lot of money by not targeting people who might have a low probability of buying a product or service. Forecasting sales will allow them to focus on those who have the highest likelihood of buying a product or service.\n",
    "\n",
    "In a performance-based model, advertisers pay for consumers activities that drive a campaign goal (**sales**). That’s why predicting the number of sales is an important information for companies and advertisers. Because knowing the number of sales in advance can help businesses and other entities figure out if their advertising strategy is worth it or not. After all, we want to make money, not lose it. \n",
    "\n",
    "Therefore, this analysis will predict the total number of people who buy the product after seeing the ad (Approved Conversion)."
   ]
  },
  {
   "cell_type": "markdown",
   "id": "d0084366",
   "metadata": {},
   "source": [
    "# **2. Data**\n",
    "\n",
    "The original dataset is called *KAG_conversion_data* and was downloaded from Kaggle website: [Sales Conversion Optimization](https://www.kaggle.com/loveall/clicks-conversion-tracking).\n",
    "\n",
    "The data is about an organization's social media ad campaign. It contains 1143 observations and 11 variables. \n",
    "\n",
    "Approved Conversion, which represents the total number of people who bought the product after seeing the ad, will be the target variable. Because it's a continuos variable, we are dealing with a regression task.\n"
   ]
  },
  {
   "cell_type": "markdown",
   "id": "a664a4bb",
   "metadata": {},
   "source": [
    "**Load the Dataset**"
   ]
  },
  {
   "cell_type": "code",
   "execution_count": 42,
   "id": "3d98eb0c",
   "metadata": {},
   "outputs": [
    {
     "name": "stdout",
     "output_type": "stream",
     "text": [
      "\n",
      "  There is a binary version available but the source version is later:\n",
      "       binary source needs_compilation\n",
      "GGally  2.1.1  2.1.2             FALSE\n",
      "\n"
     ]
    },
    {
     "name": "stderr",
     "output_type": "stream",
     "text": [
      "installing the source package 'GGally'\n",
      "\n"
     ]
    }
   ],
   "source": [
    "# Install the relevant packages\n",
    "install.packages(\"ggplot2\")\n",
    "install.packages('ggpubr')\n",
    "install.packages(\"corrplot\")\n",
    "install.packages(\"GGally\")"
   ]
  },
  {
   "cell_type": "code",
   "execution_count": 43,
   "id": "d7ca70d3",
   "metadata": {
    "scrolled": true
   },
   "outputs": [
    {
     "name": "stderr",
     "output_type": "stream",
     "text": [
      "Registered S3 method overwritten by 'GGally':\n",
      "  method from   \n",
      "  +.gg   ggplot2\n"
     ]
    }
   ],
   "source": [
    "# Import the relevant libraries\n",
    "library(ggplot2)\n",
    "library(ggpubr)\n",
    "library(corrplot)\n",
    "library(car)\n",
    "library(GGally)"
   ]
  },
  {
   "cell_type": "code",
   "execution_count": 3,
   "id": "da8ce453",
   "metadata": {},
   "outputs": [],
   "source": [
    "# Read the raw data from the source into a DataFrame\n",
    "df <- read.csv(\"KAG_conversion_data.csv\", header = TRUE)"
   ]
  },
  {
   "cell_type": "markdown",
   "id": "bd6e5ccb",
   "metadata": {},
   "source": [
    "# **3. Methodology**"
   ]
  },
  {
   "cell_type": "markdown",
   "id": "57171766",
   "metadata": {},
   "source": [
    "### **Exploratory Data Analysis (EDA)**\n",
    "\n",
    "In this step, I will apply statistics and visualization techniques to gain a better understanding of the dataset and I will also eliminate any problems from the dataset which would prevent further analysis."
   ]
  },
  {
   "cell_type": "code",
   "execution_count": 4,
   "id": "6afd44a1",
   "metadata": {},
   "outputs": [
    {
     "name": "stdout",
     "output_type": "stream",
     "text": [
      "'data.frame':\t1143 obs. of  11 variables:\n",
      " $ ad_id              : int  708746 708749 708771 708815 708818 708820 708889 708895 708953 708958 ...\n",
      " $ xyz_campaign_id    : int  916 916 916 916 916 916 916 916 916 916 ...\n",
      " $ fb_campaign_id     : int  103916 103917 103920 103928 103928 103929 103940 103941 103951 103952 ...\n",
      " $ age                : Factor w/ 4 levels \"30-34\",\"35-39\",..: 1 1 1 1 1 1 1 1 1 1 ...\n",
      " $ gender             : Factor w/ 2 levels \"F\",\"M\": 2 2 2 2 2 2 2 2 2 2 ...\n",
      " $ interest           : int  15 16 20 28 28 29 15 16 27 28 ...\n",
      " $ Impressions        : int  7350 17861 693 4259 4133 1915 15615 10951 2355 9502 ...\n",
      " $ Clicks             : int  1 2 0 1 1 0 3 1 1 3 ...\n",
      " $ Spent              : num  1.43 1.82 0 1.25 1.29 ...\n",
      " $ Total_Conversion   : int  2 2 1 1 1 1 1 1 1 1 ...\n",
      " $ Approved_Conversion: int  1 0 0 0 1 1 0 1 0 0 ...\n"
     ]
    }
   ],
   "source": [
    "# Use the str and summary functions to get an understanding of the DataFrame\n",
    "str(df)"
   ]
  },
  {
   "cell_type": "code",
   "execution_count": 5,
   "id": "1914736c",
   "metadata": {},
   "outputs": [
    {
     "data": {
      "text/plain": [
       "     ad_id         xyz_campaign_id fb_campaign_id      age      gender \n",
       " Min.   : 708746   Min.   : 916    Min.   :103916   30-34:426   F:551  \n",
       " 1st Qu.: 777633   1st Qu.: 936    1st Qu.:115716   35-39:248   M:592  \n",
       " Median :1121185   Median :1178    Median :144549   40-44:210          \n",
       " Mean   : 987261   Mean   :1067    Mean   :133784   45-49:259          \n",
       " 3rd Qu.:1121805   3rd Qu.:1178    3rd Qu.:144658                      \n",
       " Max.   :1314415   Max.   :1178    Max.   :179982                      \n",
       "    interest       Impressions          Clicks           Spent       \n",
       " Min.   :  2.00   Min.   :     87   Min.   :  0.00   Min.   :  0.00  \n",
       " 1st Qu.: 16.00   1st Qu.:   6504   1st Qu.:  1.00   1st Qu.:  1.48  \n",
       " Median : 25.00   Median :  51509   Median :  8.00   Median : 12.37  \n",
       " Mean   : 32.77   Mean   : 186732   Mean   : 33.39   Mean   : 51.36  \n",
       " 3rd Qu.: 31.00   3rd Qu.: 221769   3rd Qu.: 37.50   3rd Qu.: 60.02  \n",
       " Max.   :114.00   Max.   :3052003   Max.   :421.00   Max.   :639.95  \n",
       " Total_Conversion Approved_Conversion\n",
       " Min.   : 0.000   Min.   : 0.000     \n",
       " 1st Qu.: 1.000   1st Qu.: 0.000     \n",
       " Median : 1.000   Median : 1.000     \n",
       " Mean   : 2.856   Mean   : 0.944     \n",
       " 3rd Qu.: 3.000   3rd Qu.: 1.000     \n",
       " Max.   :60.000   Max.   :21.000     "
      ]
     },
     "metadata": {},
     "output_type": "display_data"
    }
   ],
   "source": [
    "summary(df)"
   ]
  },
  {
   "cell_type": "markdown",
   "id": "cb0a5b36",
   "metadata": {},
   "source": [
    "It can be seen from the output that this dataset contains 1143 observations and 11 variables. \n",
    "\n",
    "Moreover, 8 fields are integers, 2 are factors (strings) and 1 is float. The essential difference between these variable types is that continuous variables can take a potentially unlimited number of values, while categorical variables can take only a limited number of categories as their values."
   ]
  },
  {
   "cell_type": "code",
   "execution_count": 6,
   "id": "4ff81ff1",
   "metadata": {},
   "outputs": [
    {
     "data": {
      "text/html": [
       "<table>\n",
       "<thead><tr><th scope=col>ad_id</th><th scope=col>xyz_campaign_id</th><th scope=col>fb_campaign_id</th><th scope=col>age</th><th scope=col>gender</th><th scope=col>interest</th><th scope=col>Impressions</th><th scope=col>Clicks</th><th scope=col>Spent</th><th scope=col>Total_Conversion</th><th scope=col>Approved_Conversion</th></tr></thead>\n",
       "<tbody>\n",
       "\t<tr><td>708746</td><td>916   </td><td>103916</td><td>30-34 </td><td>M     </td><td>15    </td><td> 7350 </td><td>1     </td><td>1.43  </td><td>2     </td><td>1     </td></tr>\n",
       "\t<tr><td>708749</td><td>916   </td><td>103917</td><td>30-34 </td><td>M     </td><td>16    </td><td>17861 </td><td>2     </td><td>1.82  </td><td>2     </td><td>0     </td></tr>\n",
       "\t<tr><td>708771</td><td>916   </td><td>103920</td><td>30-34 </td><td>M     </td><td>20    </td><td>  693 </td><td>0     </td><td>0.00  </td><td>1     </td><td>0     </td></tr>\n",
       "\t<tr><td>708815</td><td>916   </td><td>103928</td><td>30-34 </td><td>M     </td><td>28    </td><td> 4259 </td><td>1     </td><td>1.25  </td><td>1     </td><td>0     </td></tr>\n",
       "\t<tr><td>708818</td><td>916   </td><td>103928</td><td>30-34 </td><td>M     </td><td>28    </td><td> 4133 </td><td>1     </td><td>1.29  </td><td>1     </td><td>1     </td></tr>\n",
       "</tbody>\n",
       "</table>\n"
      ],
      "text/latex": [
       "\\begin{tabular}{r|lllllllllll}\n",
       " ad\\_id & xyz\\_campaign\\_id & fb\\_campaign\\_id & age & gender & interest & Impressions & Clicks & Spent & Total\\_Conversion & Approved\\_Conversion\\\\\n",
       "\\hline\n",
       "\t 708746 & 916    & 103916 & 30-34  & M      & 15     &  7350  & 1      & 1.43   & 2      & 1     \\\\\n",
       "\t 708749 & 916    & 103917 & 30-34  & M      & 16     & 17861  & 2      & 1.82   & 2      & 0     \\\\\n",
       "\t 708771 & 916    & 103920 & 30-34  & M      & 20     &   693  & 0      & 0.00   & 1      & 0     \\\\\n",
       "\t 708815 & 916    & 103928 & 30-34  & M      & 28     &  4259  & 1      & 1.25   & 1      & 0     \\\\\n",
       "\t 708818 & 916    & 103928 & 30-34  & M      & 28     &  4133  & 1      & 1.29   & 1      & 1     \\\\\n",
       "\\end{tabular}\n"
      ],
      "text/markdown": [
       "\n",
       "| ad_id | xyz_campaign_id | fb_campaign_id | age | gender | interest | Impressions | Clicks | Spent | Total_Conversion | Approved_Conversion |\n",
       "|---|---|---|---|---|---|---|---|---|---|---|\n",
       "| 708746 | 916    | 103916 | 30-34  | M      | 15     |  7350  | 1      | 1.43   | 2      | 1      |\n",
       "| 708749 | 916    | 103917 | 30-34  | M      | 16     | 17861  | 2      | 1.82   | 2      | 0      |\n",
       "| 708771 | 916    | 103920 | 30-34  | M      | 20     |   693  | 0      | 0.00   | 1      | 0      |\n",
       "| 708815 | 916    | 103928 | 30-34  | M      | 28     |  4259  | 1      | 1.25   | 1      | 0      |\n",
       "| 708818 | 916    | 103928 | 30-34  | M      | 28     |  4133  | 1      | 1.29   | 1      | 1      |\n",
       "\n"
      ],
      "text/plain": [
       "  ad_id  xyz_campaign_id fb_campaign_id age   gender interest Impressions\n",
       "1 708746 916             103916         30-34 M      15        7350      \n",
       "2 708749 916             103917         30-34 M      16       17861      \n",
       "3 708771 916             103920         30-34 M      20         693      \n",
       "4 708815 916             103928         30-34 M      28        4259      \n",
       "5 708818 916             103928         30-34 M      28        4133      \n",
       "  Clicks Spent Total_Conversion Approved_Conversion\n",
       "1 1      1.43  2                1                  \n",
       "2 2      1.82  2                0                  \n",
       "3 0      0.00  1                0                  \n",
       "4 1      1.25  1                0                  \n",
       "5 1      1.29  1                1                  "
      ]
     },
     "metadata": {},
     "output_type": "display_data"
    }
   ],
   "source": [
    "# Print the first 5 rows of the DataFrame\n",
    "head(df, 5)\n"
   ]
  },
  {
   "cell_type": "markdown",
   "id": "a6f6363c",
   "metadata": {},
   "source": [
    "**Detecting Missing Values**"
   ]
  },
  {
   "cell_type": "code",
   "execution_count": 7,
   "id": "a7a9404a",
   "metadata": {},
   "outputs": [
    {
     "data": {
      "text/html": [
       "<dl class=dl-horizontal>\n",
       "\t<dt>ad_id</dt>\n",
       "\t\t<dd>0</dd>\n",
       "\t<dt>xyz_campaign_id</dt>\n",
       "\t\t<dd>0</dd>\n",
       "\t<dt>fb_campaign_id</dt>\n",
       "\t\t<dd>0</dd>\n",
       "\t<dt>age</dt>\n",
       "\t\t<dd>0</dd>\n",
       "\t<dt>gender</dt>\n",
       "\t\t<dd>0</dd>\n",
       "\t<dt>interest</dt>\n",
       "\t\t<dd>0</dd>\n",
       "\t<dt>Impressions</dt>\n",
       "\t\t<dd>0</dd>\n",
       "\t<dt>Clicks</dt>\n",
       "\t\t<dd>0</dd>\n",
       "\t<dt>Spent</dt>\n",
       "\t\t<dd>0</dd>\n",
       "\t<dt>Total_Conversion</dt>\n",
       "\t\t<dd>0</dd>\n",
       "\t<dt>Approved_Conversion</dt>\n",
       "\t\t<dd>0</dd>\n",
       "</dl>\n"
      ],
      "text/latex": [
       "\\begin{description*}\n",
       "\\item[ad\\textbackslash{}\\_id] 0\n",
       "\\item[xyz\\textbackslash{}\\_campaign\\textbackslash{}\\_id] 0\n",
       "\\item[fb\\textbackslash{}\\_campaign\\textbackslash{}\\_id] 0\n",
       "\\item[age] 0\n",
       "\\item[gender] 0\n",
       "\\item[interest] 0\n",
       "\\item[Impressions] 0\n",
       "\\item[Clicks] 0\n",
       "\\item[Spent] 0\n",
       "\\item[Total\\textbackslash{}\\_Conversion] 0\n",
       "\\item[Approved\\textbackslash{}\\_Conversion] 0\n",
       "\\end{description*}\n"
      ],
      "text/markdown": [
       "ad_id\n",
       ":   0xyz_campaign_id\n",
       ":   0fb_campaign_id\n",
       ":   0age\n",
       ":   0gender\n",
       ":   0interest\n",
       ":   0Impressions\n",
       ":   0Clicks\n",
       ":   0Spent\n",
       ":   0Total_Conversion\n",
       ":   0Approved_Conversion\n",
       ":   0\n",
       "\n"
      ],
      "text/plain": [
       "              ad_id     xyz_campaign_id      fb_campaign_id                 age \n",
       "                  0                   0                   0                   0 \n",
       "             gender            interest         Impressions              Clicks \n",
       "                  0                   0                   0                   0 \n",
       "              Spent    Total_Conversion Approved_Conversion \n",
       "                  0                   0                   0 "
      ]
     },
     "metadata": {},
     "output_type": "display_data"
    }
   ],
   "source": [
    "# Count total missing values in each column of the dataframe\n",
    "sapply(df, function(x) sum(is.na(x)))"
   ]
  },
  {
   "cell_type": "markdown",
   "id": "80e3d7ef",
   "metadata": {},
   "source": [
    "The dataset has no missing values."
   ]
  },
  {
   "cell_type": "code",
   "execution_count": 8,
   "id": "10ff5e52",
   "metadata": {
    "scrolled": true
   },
   "outputs": [
    {
     "data": {
      "text/plain": [
       "     ad_id         xyz_campaign_id fb_campaign_id      age      gender \n",
       " Min.   : 708746   Min.   : 916    Min.   :103916   30-34:426   F:551  \n",
       " 1st Qu.: 777633   1st Qu.: 936    1st Qu.:115716   35-39:248   M:592  \n",
       " Median :1121185   Median :1178    Median :144549   40-44:210          \n",
       " Mean   : 987261   Mean   :1067    Mean   :133784   45-49:259          \n",
       " 3rd Qu.:1121805   3rd Qu.:1178    3rd Qu.:144658                      \n",
       " Max.   :1314415   Max.   :1178    Max.   :179982                      \n",
       "    interest       Impressions          Clicks           Spent       \n",
       " Min.   :  2.00   Min.   :     87   Min.   :  0.00   Min.   :  0.00  \n",
       " 1st Qu.: 16.00   1st Qu.:   6504   1st Qu.:  1.00   1st Qu.:  1.48  \n",
       " Median : 25.00   Median :  51509   Median :  8.00   Median : 12.37  \n",
       " Mean   : 32.77   Mean   : 186732   Mean   : 33.39   Mean   : 51.36  \n",
       " 3rd Qu.: 31.00   3rd Qu.: 221769   3rd Qu.: 37.50   3rd Qu.: 60.02  \n",
       " Max.   :114.00   Max.   :3052003   Max.   :421.00   Max.   :639.95  \n",
       " Total_Conversion Approved_Conversion\n",
       " Min.   : 0.000   Min.   : 0.000     \n",
       " 1st Qu.: 1.000   1st Qu.: 0.000     \n",
       " Median : 1.000   Median : 1.000     \n",
       " Mean   : 2.856   Mean   : 0.944     \n",
       " 3rd Qu.: 3.000   3rd Qu.: 1.000     \n",
       " Max.   :60.000   Max.   :21.000     "
      ]
     },
     "metadata": {},
     "output_type": "display_data"
    }
   ],
   "source": [
    "# Get univariate statistics to \n",
    "# summarize the central tendency, dispersion, \n",
    "# and shape of a dataset’s distribution\n",
    "\n",
    "summary(df)"
   ]
  },
  {
   "cell_type": "code",
   "execution_count": 9,
   "id": "5fca36f8",
   "metadata": {},
   "outputs": [
    {
     "name": "stderr",
     "output_type": "stream",
     "text": [
      "`stat_bin()` using `bins = 30`. Pick better value with `binwidth`.\n",
      "`stat_bin()` using `bins = 30`. Pick better value with `binwidth`.\n",
      "`stat_bin()` using `bins = 30`. Pick better value with `binwidth`.\n",
      "`stat_bin()` using `bins = 30`. Pick better value with `binwidth`.\n",
      "`stat_bin()` using `bins = 30`. Pick better value with `binwidth`.\n",
      "`stat_bin()` using `bins = 30`. Pick better value with `binwidth`.\n"
     ]
    },
    {
     "data": {
      "image/png": "[encoded data removed]",
      "text/plain": [
       "plot without title"
      ]
     },
     "metadata": {},
     "output_type": "display_data"
    }
   ],
   "source": [
    "# Univariate visualization of the continuous variables \n",
    "# Plot histograms to get a sense of their distribution\n",
    "\n",
    "h_1 <- ggplot(df, aes(x=interest)) + \n",
    "    geom_histogram() +\n",
    "    ggtitle(\"Histogram of interest\")\n",
    "\n",
    "h_2 <- ggplot(df, aes(x=Impressions)) + \n",
    "    geom_histogram() +\n",
    "    ggtitle(\"Histogram of Impressions\")\n",
    "\n",
    "h_3 <- ggplot(df, aes(x=Clicks)) + \n",
    "    geom_histogram() +\n",
    "    ggtitle(\"Histogram of Clicks\")\n",
    "\n",
    "h_4 <- ggplot(df, aes(x=Spent)) + \n",
    "    geom_histogram() +\n",
    "    ggtitle(\"Histogram of Spent\")\n",
    "\n",
    "h_5 <- ggplot(df, aes(x=Total_Conversion)) + \n",
    "    geom_histogram() +\n",
    "    ggtitle(\"Histogram of Total_Conversion\")\n",
    "\n",
    "h_6 <- ggplot(df, aes(x=Approved_Conversion)) + \n",
    "    geom_histogram() +\n",
    "    ggtitle(\"Histogram of Approved_Conversion\")\n",
    "\n",
    "ggarrange(h_1, h_2, h_3, h_4, h_5, h_6, ncol=2, nrow=3)"
   ]
  },
  {
   "cell_type": "markdown",
   "id": "ed86656b",
   "metadata": {},
   "source": [
    "The above variables are not normally distributed. The histograms of impressions, clicks, spent, total conversion and approved conversion depict highly skewed distributions (positively skewed). Therefore, these variables could have potential outliers. "
   ]
  },
  {
   "cell_type": "code",
   "execution_count": 10,
   "id": "503da5d1",
   "metadata": {},
   "outputs": [
    {
     "data": {
      "image/png": "[encoded data removed]",
      "text/plain": [
       "plot without title"
      ]
     },
     "metadata": {},
     "output_type": "display_data"
    }
   ],
   "source": [
    "# Visually detect outliers with boxplots\n",
    "bp_1 <- ggplot(df, aes(y=interest)) +\n",
    "    geom_boxplot() + \n",
    "    ggtitle(\"Box plot of interest\")\n",
    "\n",
    "bp_2 <- ggplot(df, aes(y=Impressions)) +\n",
    "    geom_boxplot() + \n",
    "    ggtitle(\"Box plot of Impressions\")\n",
    "\n",
    "bp_3 <- ggplot(df, aes(y=Clicks)) +\n",
    "    geom_boxplot() + \n",
    "    ggtitle(\"Box plot of Clicks\")\n",
    "\n",
    "bp_4 <- ggplot(df, aes(y=Spent)) +\n",
    "    geom_boxplot() + \n",
    "    ggtitle(\"Box plot of Spent\")\n",
    "\n",
    "bp_5 <- ggplot(df, aes(y=Total_Conversion)) +\n",
    "    geom_boxplot() + \n",
    "    ggtitle(\"Box plot of Total_Conversion\")\n",
    "\n",
    "bp_6 <- ggplot(df, aes(y=Approved_Conversion)) +\n",
    "    geom_boxplot() + \n",
    "    ggtitle(\"Box plot of Approved_Conversion\")\n",
    "\n",
    "ggarrange(bp_1, bp_2, bp_3, bp_4, bp_5, bp_6, ncol=2, nrow=3)"
   ]
  },
  {
   "cell_type": "markdown",
   "id": "528a2b8c",
   "metadata": {},
   "source": [
    "We can see that the above variables have outliers. These can be problematic because they can affect the results of our model."
   ]
  },
  {
   "cell_type": "code",
   "execution_count": 11,
   "id": "388c32c3",
   "metadata": {
    "scrolled": true
   },
   "outputs": [
    {
     "name": "stderr",
     "output_type": "stream",
     "text": [
      "`geom_smooth()` using formula 'y ~ x'\n",
      "`geom_smooth()` using formula 'y ~ x'\n",
      "`geom_smooth()` using formula 'y ~ x'\n",
      "`geom_smooth()` using formula 'y ~ x'\n",
      "`geom_smooth()` using formula 'y ~ x'\n"
     ]
    },
    {
     "data": {
      "image/png": "[encoded data removed]",
      "text/plain": [
       "plot without title"
      ]
     },
     "metadata": {},
     "output_type": "display_data"
    }
   ],
   "source": [
    "# Bivariate analysis of two continuous variables\n",
    "\n",
    "# Plot scatter plots to look at the relationship between the response variable \n",
    "# and the predictor variables (if the first variable's value usually goes up \n",
    "# when the second one goes up, then this indicates a positive relationship.)\n",
    "\n",
    "s_1 <- ggplot(df, aes(x=interest, y=Approved_Conversion)) +\n",
    "    geom_point() +\n",
    "    xlab(\"interest\") +\n",
    "    ylab(\"Approved_Conversion\") +\n",
    "    ggtitle(\"Approved_Conversion vs interest\") + \n",
    "    geom_smooth(method=\"lm\", se=FALSE)\n",
    "\n",
    "s_2 <- ggplot(df, aes(x=Impressions, y=Approved_Conversion)) +\n",
    "    geom_point() +\n",
    "    xlab(\"Impressions\") +\n",
    "    ylab(\"Approved_Conversion\") +\n",
    "    ggtitle(\"Approved_Conversion vs Impressions\") + \n",
    "    geom_smooth(method=\"lm\", se=FALSE)\n",
    "\n",
    "s_3 <- ggplot(df, aes(x=Clicks, y=Approved_Conversion)) +\n",
    "    geom_point() +\n",
    "    xlab(\"Clicks\") +\n",
    "    ylab(\"Approved_Conversion\") +\n",
    "    ggtitle(\"Approved_Conversion vs Clicks\") + \n",
    "    geom_smooth(method=\"lm\", se=FALSE)\n",
    "\n",
    "s_4 <- ggplot(df, aes(x=Spent, y=Approved_Conversion)) +\n",
    "    geom_point() +\n",
    "    xlab(\"Spent\") +\n",
    "    ylab(\"Approved_Conversion\") +\n",
    "    ggtitle(\"Approved_Conversion vs Spent\") + \n",
    "    geom_smooth(method=\"lm\", se=FALSE)\n",
    "\n",
    "s_5 <- ggplot(df, aes(x=Total_Conversion, y=Approved_Conversion)) +\n",
    "    geom_point() +\n",
    "    xlab(\"Total_Conversion\") +\n",
    "    ylab(\"Approved_Conversion\") +\n",
    "    ggtitle(\"Approved_Conversion vs Total_Conversion\") + \n",
    "    geom_smooth(method=\"lm\", se=FALSE)\n",
    "\n",
    "ggarrange(s_1, s_2, s_3, s_4, s_5, ncol=2, nrow=3)"
   ]
  },
  {
   "cell_type": "markdown",
   "id": "70a31274",
   "metadata": {},
   "source": [
    "Approved_Conversion vs interest: We can see that there is no clear relationship (positive or negative) between the response, Approved_Conversion, and interest.\n",
    "\n",
    "Impressions, clicks and spent have weak positive relationship with Approved_Conversion. As the variable on the x-axis increases, the response variable increases as well. The dots are fairly spread out, which indicates a weak relationship. \n",
    "\n",
    "Lastly, it can be seen that Total_Conversion has a strong positive relationship with Approved_Conversion. As Total_Conversion increases, the response variable increases as well. Moreover, the dots are packed together tightly, which indicates a strong relationship. "
   ]
  },
  {
   "cell_type": "code",
   "execution_count": 12,
   "id": "29098876",
   "metadata": {},
   "outputs": [
    {
     "data": {
      "text/html": [
       "<table>\n",
       "<thead><tr><th></th><th scope=col>interest</th><th scope=col>Impressions</th><th scope=col>Clicks</th><th scope=col>Spent</th><th scope=col>Total_Conversion</th><th scope=col>Approved_Conversion</th></tr></thead>\n",
       "<tbody>\n",
       "\t<tr><th scope=row>interest</th><td>1.000</td><td>0.102</td><td>0.089</td><td>0.070</td><td>0.120</td><td>0.058</td></tr>\n",
       "\t<tr><th scope=row>Impressions</th><td>0.102</td><td>1.000</td><td>0.949</td><td>0.970</td><td>0.813</td><td>0.684</td></tr>\n",
       "\t<tr><th scope=row>Clicks</th><td>0.089</td><td>0.949</td><td>1.000</td><td>0.993</td><td>0.695</td><td>0.560</td></tr>\n",
       "\t<tr><th scope=row>Spent</th><td>0.070</td><td>0.970</td><td>0.993</td><td>1.000</td><td>0.725</td><td>0.593</td></tr>\n",
       "\t<tr><th scope=row>Total_Conversion</th><td>0.120</td><td>0.813</td><td>0.695</td><td>0.725</td><td>1.000</td><td>0.864</td></tr>\n",
       "\t<tr><th scope=row>Approved_Conversion</th><td>0.058</td><td>0.684</td><td>0.560</td><td>0.593</td><td>0.864</td><td>1.000</td></tr>\n",
       "</tbody>\n",
       "</table>\n"
      ],
      "text/latex": [
       "\\begin{tabular}{r|llllll}\n",
       "  & interest & Impressions & Clicks & Spent & Total\\_Conversion & Approved\\_Conversion\\\\\n",
       "\\hline\n",
       "\tinterest & 1.000 & 0.102 & 0.089 & 0.070 & 0.120 & 0.058\\\\\n",
       "\tImpressions & 0.102 & 1.000 & 0.949 & 0.970 & 0.813 & 0.684\\\\\n",
       "\tClicks & 0.089 & 0.949 & 1.000 & 0.993 & 0.695 & 0.560\\\\\n",
       "\tSpent & 0.070 & 0.970 & 0.993 & 1.000 & 0.725 & 0.593\\\\\n",
       "\tTotal\\_Conversion & 0.120 & 0.813 & 0.695 & 0.725 & 1.000 & 0.864\\\\\n",
       "\tApproved\\_Conversion & 0.058 & 0.684 & 0.560 & 0.593 & 0.864 & 1.000\\\\\n",
       "\\end{tabular}\n"
      ],
      "text/markdown": [
       "\n",
       "| <!--/--> | interest | Impressions | Clicks | Spent | Total_Conversion | Approved_Conversion |\n",
       "|---|---|---|---|---|---|---|\n",
       "| interest | 1.000 | 0.102 | 0.089 | 0.070 | 0.120 | 0.058 |\n",
       "| Impressions | 0.102 | 1.000 | 0.949 | 0.970 | 0.813 | 0.684 |\n",
       "| Clicks | 0.089 | 0.949 | 1.000 | 0.993 | 0.695 | 0.560 |\n",
       "| Spent | 0.070 | 0.970 | 0.993 | 1.000 | 0.725 | 0.593 |\n",
       "| Total_Conversion | 0.120 | 0.813 | 0.695 | 0.725 | 1.000 | 0.864 |\n",
       "| Approved_Conversion | 0.058 | 0.684 | 0.560 | 0.593 | 0.864 | 1.000 |\n",
       "\n"
      ],
      "text/plain": [
       "                    interest Impressions Clicks Spent Total_Conversion\n",
       "interest            1.000    0.102       0.089  0.070 0.120           \n",
       "Impressions         0.102    1.000       0.949  0.970 0.813           \n",
       "Clicks              0.089    0.949       1.000  0.993 0.695           \n",
       "Spent               0.070    0.970       0.993  1.000 0.725           \n",
       "Total_Conversion    0.120    0.813       0.695  0.725 1.000           \n",
       "Approved_Conversion 0.058    0.684       0.560  0.593 0.864           \n",
       "                    Approved_Conversion\n",
       "interest            0.058              \n",
       "Impressions         0.684              \n",
       "Clicks              0.560              \n",
       "Spent               0.593              \n",
       "Total_Conversion    0.864              \n",
       "Approved_Conversion 1.000              "
      ]
     },
     "metadata": {},
     "output_type": "display_data"
    }
   ],
   "source": [
    "# Create correlation matrix between each pairwise combination of numeric variables (rounded to 3 decimal places) \n",
    "# to view the linear correlation coefficients between each pair of variables\n",
    "\n",
    "round(cor(df[c(\"interest\", \"Impressions\", \"Clicks\", \"Spent\", \"Total_Conversion\", \"Approved_Conversion\")]),3)"
   ]
  },
  {
   "cell_type": "code",
   "execution_count": 13,
   "id": "edf1e6ed",
   "metadata": {
    "scrolled": true
   },
   "outputs": [
    {
     "data": {
      "image/png": "[encoded data removed]",
      "text/plain": [
       "Plot with title \"\""
      ]
     },
     "metadata": {},
     "output_type": "display_data"
    }
   ],
   "source": [
    "# Create a visualizing of the correlation matrix\n",
    "corrplot(cor(df[c(\"interest\", \"Impressions\", \"Clicks\", \"Spent\", \"Total_Conversion\", \"Approved_Conversion\")]))"
   ]
  },
  {
   "cell_type": "markdown",
   "id": "c2af26b0",
   "metadata": {},
   "source": [
    "Total Conversion, impresions, and spent are the three most correlated variables with Approved Conversion. Whereas, Interest is the least correlated variable with Approved Conversion."
   ]
  },
  {
   "cell_type": "markdown",
   "id": "21e956b4",
   "metadata": {},
   "source": [
    "Impressions, clicks and spent are highly correlated with each other (they do not provide unique or independent information in the regression model). This indicates the presence of multicollinearity and it can cause problems when fitting and interpreting a regression model.\n",
    "\n",
    "In general, multicollinearity causes two types of problems:\n",
    "\n",
    "    The coefficient estimates of the model (and even the signs of the coefficients) can fluctuate significantly based on which other predictor variables are included in the model.\n",
    "    \n",
    "    The precision of the coefficient estimates are reduced, which makes the p-values unreliable. This makes it difficult to determine which predictor variables are actually statistically significant.\n",
    "    \n"
   ]
  },
  {
   "cell_type": "markdown",
   "id": "228dbd75",
   "metadata": {},
   "source": [
    "**Detecting Multicollinearity**\n",
    "\n",
    "The most common way to detect multicollinearity is by using the variance inflation factor (VIF), which measures the correlation and strength of correlation between the predictor variables in a regression model.\n",
    "\n",
    "A general rule of thumb for interpreting VIFs is as follows:\n",
    "\n",
    "    A value of 1 indicates there is no correlation between a given predictor variable and any other predictor variables in the model.\n",
    "    \n",
    "    A value between 1 and 5 indicates moderate correlation between a given predictor variable and other predictor variables in the model, but this is often not severe enough to require attention.\n",
    "    \n",
    "    A value greater than 5 indicates potentially severe correlation between a given predictor variable and other predictor variables in the model. In this case, the coefficient estimates and p-values in the regression output are likely unreliable."
   ]
  },
  {
   "cell_type": "code",
   "execution_count": 14,
   "id": "872bf2ac",
   "metadata": {},
   "outputs": [
    {
     "data": {
      "text/plain": [
       "\n",
       "Call:\n",
       "lm(formula = Approved_Conversion ~ interest + Impressions + Clicks + \n",
       "    Spent + Total_Conversion, data = df)\n",
       "\n",
       "Residuals:\n",
       "    Min      1Q  Median      3Q     Max \n",
       "-4.7621 -0.3926 -0.2524  0.5997  6.5563 \n",
       "\n",
       "Coefficients:\n",
       "                   Estimate Std. Error t value Pr(>|t|)    \n",
       "(Intercept)       1.103e-01  4.358e-02   2.532  0.01149 *  \n",
       "interest         -3.001e-03  9.980e-04  -3.007  0.00269 ** \n",
       "Impressions       1.287e-06  5.105e-07   2.521  0.01183 *  \n",
       "Clicks           -6.805e-03  4.608e-03  -1.477  0.14008    \n",
       "Spent            -5.751e-04  4.054e-03  -0.142  0.88723    \n",
       "Total_Conversion  3.321e-01  1.096e-02  30.298  < 2e-16 ***\n",
       "---\n",
       "Signif. codes:  0 '***' 0.001 '**' 0.01 '*' 0.05 '.' 0.1 ' ' 1\n",
       "\n",
       "Residual standard error: 0.8629 on 1137 degrees of freedom\n",
       "Multiple R-squared:  0.7545,\tAdjusted R-squared:  0.7534 \n",
       "F-statistic: 698.9 on 5 and 1137 DF,  p-value: < 2.2e-16\n"
      ]
     },
     "metadata": {},
     "output_type": "display_data"
    }
   ],
   "source": [
    "# Fit the regression model\n",
    "model_1 <- lm(Approved_Conversion ~ interest + Impressions + Clicks + Spent + Total_Conversion, df)\n",
    "\n",
    "# View the output of the regression model\n",
    "summary(model_1)"
   ]
  },
  {
   "cell_type": "markdown",
   "id": "259d753e",
   "metadata": {},
   "source": [
    "We can see from the output that the R-squared value for the model is 0.8629.  We can also see that the overall F-statistic is 698.9 and the corresponding p-value is 2.2e-16, which indicates that the overall regression model is significant. Also, the predictor variables interest, Impresisons and Total_Conversion are statistically significant at the 0.05 significance level while Clicks and Spent are not."
   ]
  },
  {
   "cell_type": "code",
   "execution_count": 15,
   "id": "9c855909",
   "metadata": {},
   "outputs": [
    {
     "data": {
      "text/html": [
       "<dl class=dl-horizontal>\n",
       "\t<dt>interest</dt>\n",
       "\t\t<dd>1.10982218883757</dd>\n",
       "\t<dt>Impressions</dt>\n",
       "\t\t<dd>39.0991299299659</dd>\n",
       "\t<dt>Clicks</dt>\n",
       "\t\t<dd>105.438439307442</dd>\n",
       "\t<dt>Spent</dt>\n",
       "\t\t<dd>190.44280531934</dd>\n",
       "\t<dt>Total_Conversion</dt>\n",
       "\t\t<dd>3.70527132139881</dd>\n",
       "</dl>\n"
      ],
      "text/latex": [
       "\\begin{description*}\n",
       "\\item[interest] 1.10982218883757\n",
       "\\item[Impressions] 39.0991299299659\n",
       "\\item[Clicks] 105.438439307442\n",
       "\\item[Spent] 190.44280531934\n",
       "\\item[Total\\textbackslash{}\\_Conversion] 3.70527132139881\n",
       "\\end{description*}\n"
      ],
      "text/markdown": [
       "interest\n",
       ":   1.10982218883757Impressions\n",
       ":   39.0991299299659Clicks\n",
       ":   105.438439307442Spent\n",
       ":   190.44280531934Total_Conversion\n",
       ":   3.70527132139881\n",
       "\n"
      ],
      "text/plain": [
       "        interest      Impressions           Clicks            Spent \n",
       "        1.109822        39.099130       105.438439       190.442805 \n",
       "Total_Conversion \n",
       "        3.705271 "
      ]
     },
     "metadata": {},
     "output_type": "display_data"
    }
   ],
   "source": [
    "# Calculate the VIF for each predictor variable in the model\n",
    "vif(model_1)"
   ]
  },
  {
   "cell_type": "markdown",
   "id": "3fdac8e5",
   "metadata": {},
   "source": [
    "We can see that the VIF for Impressions, Clicks and Spent are greater than 5, which is potentially concerning. "
   ]
  },
  {
   "cell_type": "code",
   "execution_count": 16,
   "id": "a5ac2248",
   "metadata": {},
   "outputs": [
    {
     "data": {
      "image/png": "[encoded data removed]",
      "text/plain": [
       "Plot with title \"VIF Values\""
      ]
     },
     "metadata": {},
     "output_type": "display_data"
    }
   ],
   "source": [
    "# Visualizing VIF values\n",
    "\n",
    "# Create vector of VIF values\n",
    "vif_values <- vif(model_1)\n",
    "\n",
    "# Create horizontal bar chart to display each VIF value\n",
    "barplot(vif_values, main = \"VIF Values\", horiz = TRUE, col = \"steelblue\")\n",
    "\n",
    "# Add vertical line at 5\n",
    "abline(v = 5, lwd = 3, lty = 2)"
   ]
  },
  {
   "cell_type": "markdown",
   "id": "e3c7e135",
   "metadata": {},
   "source": [
    "We can clearly see from the plot which VIF values exceed 5 for each predictor variable.  "
   ]
  },
  {
   "cell_type": "code",
   "execution_count": 17,
   "id": "db4e13f5",
   "metadata": {
    "scrolled": false
   },
   "outputs": [
    {
     "data": {
      "image/png": "[encoded data removed]",
      "text/plain": [
       "plot without title"
      ]
     },
     "metadata": {},
     "output_type": "display_data"
    }
   ],
   "source": [
    "# Bivariate analysis of a continuous-categorical pair\n",
    "\n",
    "# Look at the relationship between the response variable\n",
    "# and the categorical variables\n",
    "\n",
    "# Box plot of Approved_Conversion vs age\n",
    "ggplot(df, aes(x=age, y=Approved_Conversion, color=age)) + \n",
    "    geom_boxplot() + \n",
    "    ggtitle(\"Box plot of Approved_Conversion vs age\")"
   ]
  },
  {
   "cell_type": "code",
   "execution_count": 18,
   "id": "b26ec67a",
   "metadata": {},
   "outputs": [
    {
     "data": {
      "image/png": "[encoded data removed]",
      "text/plain": [
       "plot without title"
      ]
     },
     "metadata": {},
     "output_type": "display_data"
    }
   ],
   "source": [
    "# Box plot of Approved_Conversion vs gender\n",
    "\n",
    "ggplot(df, aes(x=gender, y=Approved_Conversion, color=gender)) + \n",
    "    geom_boxplot() + \n",
    "    ggtitle(\"Box plot of Approved_Conversion vs gender\")"
   ]
  },
  {
   "cell_type": "markdown",
   "id": "3ec01aee",
   "metadata": {},
   "source": [
    "Based on the boxplots, there appears to be no relationship between the response, Approved_Conversion, and the qualitative predictors age and sex. "
   ]
  },
  {
   "cell_type": "markdown",
   "id": "91a5e367",
   "metadata": {},
   "source": [
    "One approach to evaluate or study the response variable with respect to a categorical variable, in this case, age, is to use the side by side boxplot. That is, for each category we plot a single boxplot of the response variable and we compare the boxplots across all categories (across all ages).\n",
    "\n",
    "Therefore, we are interested to address the following questions: \n",
    "\n",
    "Is there a difference in Approved_Conversion by age category?\n",
    "\n",
    "Which age category have higher conversions (bought the product) after seeing the ad?\n",
    "\n",
    "To answer these questions, I will compare whether the mean Approved_Conversion across all ages are different. \n"
   ]
  },
  {
   "cell_type": "markdown",
   "id": "13097137",
   "metadata": {},
   "source": [
    "**Hypothesis test for equal means**\n",
    "\n",
    "Using the hypothesis testing procedure for equal means, we test: The null \n",
    "hypothesis, which that the means are all equal (mu 1 = mu 2…=mu k) versus the alternative hypothesis, that some means are different. Not all means have to be different for the alternative hypothesis to be true -- at least one pair of the means needs to be different.\n"
   ]
  },
  {
   "cell_type": "code",
   "execution_count": 19,
   "id": "3444edb6",
   "metadata": {
    "scrolled": true
   },
   "outputs": [
    {
     "data": {
      "text/plain": [
       "              Df Sum Sq Mean Sq F value Pr(>F)  \n",
       "age            3     32   10.57   3.524 0.0146 *\n",
       "Residuals   1139   3417    3.00                 \n",
       "---\n",
       "Signif. codes:  0 '***' 0.001 '**' 0.01 '*' 0.05 '.' 0.1 ' ' 1"
      ]
     },
     "metadata": {},
     "output_type": "display_data"
    }
   ],
   "source": [
    "# Hypothesis test for equal means\n",
    "\n",
    "# Perform an ANOVA F-test on Approved_Conversion among the different age categories\n",
    "model_aov <- aov(Approved_Conversion~age, data=df)\n",
    "summary(model_aov)"
   ]
  },
  {
   "cell_type": "markdown",
   "id": "f91579ce",
   "metadata": {},
   "source": [
    "The p-value of the F-test is 0.0146 which is less than 0.05. Therefore, we can reject the null hypothesis that the means of the age categories are equal, and conclude that at least two means statistically significantly differ from each other."
   ]
  },
  {
   "cell_type": "code",
   "execution_count": 20,
   "id": "17f4cd91",
   "metadata": {
    "scrolled": true
   },
   "outputs": [
    {
     "data": {
      "text/html": [
       "<table>\n",
       "<thead><tr><th scope=col>Res.Df</th><th scope=col>RSS</th><th scope=col>Df</th><th scope=col>Sum of Sq</th><th scope=col>F</th><th scope=col>Pr(&gt;F)</th></tr></thead>\n",
       "<tbody>\n",
       "\t<tr><td>1133      </td><td>844.5812  </td><td>NA        </td><td>        NA</td><td>        NA</td><td>       NA </td></tr>\n",
       "\t<tr><td>1136      </td><td>844.7070  </td><td>-3        </td><td>-0.1257896</td><td>0.05624863</td><td>0.9824604 </td></tr>\n",
       "</tbody>\n",
       "</table>\n"
      ],
      "text/latex": [
       "\\begin{tabular}{r|llllll}\n",
       " Res.Df & RSS & Df & Sum of Sq & F & Pr(>F)\\\\\n",
       "\\hline\n",
       "\t 1133       & 844.5812   & NA         &         NA &         NA &        NA \\\\\n",
       "\t 1136       & 844.7070   & -3         & -0.1257896 & 0.05624863 & 0.9824604 \\\\\n",
       "\\end{tabular}\n"
      ],
      "text/markdown": [
       "\n",
       "| Res.Df | RSS | Df | Sum of Sq | F | Pr(>F) |\n",
       "|---|---|---|---|---|---|\n",
       "| 1133       | 844.5812   | NA         |         NA |         NA |        NA  |\n",
       "| 1136       | 844.7070   | -3         | -0.1257896 | 0.05624863 | 0.9824604  |\n",
       "\n"
      ],
      "text/plain": [
       "  Res.Df RSS      Df Sum of Sq  F          Pr(>F)   \n",
       "1 1133   844.5812 NA         NA         NA        NA\n",
       "2 1136   844.7070 -3 -0.1257896 0.05624863 0.9824604"
      ]
     },
     "metadata": {},
     "output_type": "display_data"
    }
   ],
   "source": [
    "# Model Comparison\n",
    "\n",
    "full_model <- lm(Approved_Conversion ~ age + gender + interest + Impressions + Clicks + Spent + Total_Conversion, df)\n",
    "\n",
    "# Build a second multiple linear regression model (reduced_model) using Approved_Conversion as the response variable, and all variables except age as the predictors. \n",
    "# Conduct a partial F-test comparing full_model with reduced_model\n",
    "reduced_model <- lm(Approved_Conversion ~ gender + interest + Impressions + Clicks + Spent + Total_Conversion, df)\n",
    "\n",
    "anova(full_model, reduced_model)"
   ]
  },
  {
   "cell_type": "markdown",
   "id": "a92afd7d",
   "metadata": {},
   "source": [
    "The partial-F test p-value is 0.9824604 which is greater than 0.05. Therefore, we can not reject the null hypothesis that the regression coefficients for age variable are zero at an α-level of 0.05. \n",
    "\n",
    "We conclude that age did not add explanatory power to the response variable conditional of other predicting variables in the model. Thus, the reduced model offers a statistically better fit than the full model. "
   ]
  },
  {
   "cell_type": "code",
   "execution_count": 21,
   "id": "76227be1",
   "metadata": {
    "scrolled": true
   },
   "outputs": [
    {
     "data": {
      "text/plain": [
       "              Df Sum Sq Mean Sq F value Pr(>F)\n",
       "gender         1      2   2.216   0.734  0.392\n",
       "Residuals   1141   3446   3.020               "
      ]
     },
     "metadata": {},
     "output_type": "display_data"
    }
   ],
   "source": [
    "# Hypothesis test for equal means\n",
    "\n",
    "# Perform an ANOVA F-test on Approved_Conversion among the two gender category\n",
    "model_aov_2 <- aov(Approved_Conversion~gender, data=df)\n",
    "summary(model_aov_2)"
   ]
  },
  {
   "cell_type": "markdown",
   "id": "34105981",
   "metadata": {},
   "source": [
    "From the model output we can see that the predictor variable gender is not statistically significant at the .05 significance level.\n",
    "\n",
    "In other words, there is not a statistically significant difference between the mean approved conversions that results from males and females. "
   ]
  },
  {
   "cell_type": "code",
   "execution_count": 22,
   "id": "bf4328f5",
   "metadata": {
    "scrolled": true
   },
   "outputs": [
    {
     "data": {
      "text/plain": [
       "              Df Sum Sq Mean Sq F value Pr(>F)\n",
       "gender         1      2   2.216   0.734  0.392\n",
       "Residuals   1141   3446   3.020               "
      ]
     },
     "metadata": {},
     "output_type": "display_data"
    }
   ],
   "source": [
    "# Perform an ANOVA F-test on Approved_Conversion among the two gender categories\n",
    "model_aov_2 <- aov(Approved_Conversion~gender, data=df)\n",
    "summary(model_aov_2)"
   ]
  },
  {
   "cell_type": "markdown",
   "id": "5de2c1b2",
   "metadata": {},
   "source": [
    "The p-value of the F-test is 0.392 which is greater than 0.05. Therefore, we can not reject the null hypothesis that the means of the gender category are equal. "
   ]
  },
  {
   "cell_type": "code",
   "execution_count": 23,
   "id": "38ebd523",
   "metadata": {
    "scrolled": true
   },
   "outputs": [
    {
     "data": {
      "text/html": [
       "<table>\n",
       "<thead><tr><th scope=col>Res.Df</th><th scope=col>RSS</th><th scope=col>Df</th><th scope=col>Sum of Sq</th><th scope=col>F</th><th scope=col>Pr(&gt;F)</th></tr></thead>\n",
       "<tbody>\n",
       "\t<tr><td>1133     </td><td>844.5812 </td><td>NA       </td><td>       NA</td><td>      NA </td><td>       NA</td></tr>\n",
       "\t<tr><td>1134     </td><td>846.4048 </td><td>-1       </td><td>-1.823533</td><td>2.446257 </td><td>0.1180847</td></tr>\n",
       "</tbody>\n",
       "</table>\n"
      ],
      "text/latex": [
       "\\begin{tabular}{r|llllll}\n",
       " Res.Df & RSS & Df & Sum of Sq & F & Pr(>F)\\\\\n",
       "\\hline\n",
       "\t 1133      & 844.5812  & NA        &        NA &       NA  &        NA\\\\\n",
       "\t 1134      & 846.4048  & -1        & -1.823533 & 2.446257  & 0.1180847\\\\\n",
       "\\end{tabular}\n"
      ],
      "text/markdown": [
       "\n",
       "| Res.Df | RSS | Df | Sum of Sq | F | Pr(>F) |\n",
       "|---|---|---|---|---|---|\n",
       "| 1133      | 844.5812  | NA        |        NA |       NA  |        NA |\n",
       "| 1134      | 846.4048  | -1        | -1.823533 | 2.446257  | 0.1180847 |\n",
       "\n"
      ],
      "text/plain": [
       "  Res.Df RSS      Df Sum of Sq F        Pr(>F)   \n",
       "1 1133   844.5812 NA        NA       NA        NA\n",
       "2 1134   846.4048 -1 -1.823533 2.446257 0.1180847"
      ]
     },
     "metadata": {},
     "output_type": "display_data"
    }
   ],
   "source": [
    "# Build a second multiple linear regression model (reduced_model_2) using Approved_Conversion as the response variable, and all variables except gender as the predictors. \n",
    "# Conduct a partial F-test comparing full_model with reduced_model_2\n",
    "reduced_model_2 <- lm(Approved_Conversion ~ age + interest + Impressions + Clicks + Spent + Total_Conversion, df)\n",
    "\n",
    "anova(full_model, reduced_model_2)"
   ]
  },
  {
   "cell_type": "markdown",
   "id": "10413c90",
   "metadata": {},
   "source": [
    "The partial-F test p-value is 0.1180847 which is greater than 0.05. Therefore, we can not reject the null hypothesis that the regression coefficients for gender variable are zero at an α-level of 0.05. \n"
   ]
  },
  {
   "cell_type": "markdown",
   "id": "67bef900",
   "metadata": {},
   "source": [
    "### **Feature engineering**\n",
    "\n",
    "In this final step of Exploratory Data Analysis (EDA), I will select the most useful features or create new features from the existing ones.\n",
    "\n",
    "From the results, we concluded that age and gender were not statistically significant and did not add explanatory power to the response variable conditional of other predicting variables in the model. Therefore, I will not select these variables. \n",
    "\n",
    "Moreover, interest has no clear correlation with the response, Approved_Conversion. So I will not select these variable. \n",
    "\n",
    "We also concluded that Impressions, Clicks and Spent are highly correlated with each other and their VIF values are greater than 5 which indicates the presence of multicollinearity. This could cause problems in our model. \n",
    "\n",
    "To resolve multicollinearity, I will create new variables that encompasses the information from Impressions, Clicks and Spent."
   ]
  },
  {
   "cell_type": "markdown",
   "id": "5cb7ec93",
   "metadata": {},
   "source": [
    "To grow profitably in today’s market, advertisers need to target key conversion metrics and analyze consumers behaviors. \n",
    "\n",
    "Some of the KPIs that digital advertisers use to identify prospects who are most likely to convert are: CPC, CPM, and CVR. \n",
    "\n",
    "**Cost Per Click (CPC)**: measures the cost you pay for each unique visitor from an online paid media ad.\n",
    "\n",
    "**Cost Per Mile (CPM)**: is the cost advertisers pay for every thousand impressions during an ad campaign.\n",
    "\n",
    "**Conversion Rate (CVR)**: refers to the percentage of users who view a mobile ad and click on it before completing some conversion activity.\n",
    "\n",
    "Therefore, I will create these new variables and use them to predict the total number of people who bought the product after seeing the ad (Approved_Conversion)."
   ]
  },
  {
   "cell_type": "code",
   "execution_count": 24,
   "id": "0248680d",
   "metadata": {},
   "outputs": [],
   "source": [
    "# Duplicate dataframe\n",
    "data <- df"
   ]
  },
  {
   "cell_type": "code",
   "execution_count": 25,
   "id": "1191fef2",
   "metadata": {},
   "outputs": [],
   "source": [
    "# Create CPC, CPM and CVR variables\n",
    "cpc <- data$Spent / data$Clicks\n",
    "cpm <- round(data$Spent / (data$Impressions / 1000), 2)\n",
    "cvr <- data$Approved_Conversion / data$Total_Conversion\n",
    "\n",
    "data[\"CPC\"] <- cpc\n",
    "data[\"CPM\"] <- cpm\n",
    "data[\"CVR\"] <- cvr"
   ]
  },
  {
   "cell_type": "code",
   "execution_count": 27,
   "id": "2ebaee51",
   "metadata": {},
   "outputs": [],
   "source": [
    "data_2 <- subset(data, select = -c(ad_id, xyz_campaign_id, fb_campaign_id, interest, age, gender, Impressions, Clicks, Spent))"
   ]
  },
  {
   "cell_type": "code",
   "execution_count": 28,
   "id": "f5cc741d",
   "metadata": {},
   "outputs": [
    {
     "data": {
      "text/html": [
       "<table>\n",
       "<thead><tr><th scope=col>Total_Conversion</th><th scope=col>Approved_Conversion</th><th scope=col>CPC</th><th scope=col>CPM</th><th scope=col>CVR</th></tr></thead>\n",
       "<tbody>\n",
       "\t<tr><td>2   </td><td>1   </td><td>1.43</td><td>0.19</td><td>0.5 </td></tr>\n",
       "\t<tr><td>2   </td><td>0   </td><td>0.91</td><td>0.10</td><td>0.0 </td></tr>\n",
       "\t<tr><td>1   </td><td>0   </td><td> NaN</td><td>0.00</td><td>0.0 </td></tr>\n",
       "\t<tr><td>1   </td><td>0   </td><td>1.25</td><td>0.29</td><td>0.0 </td></tr>\n",
       "\t<tr><td>1   </td><td>1   </td><td>1.29</td><td>0.31</td><td>1.0 </td></tr>\n",
       "\t<tr><td>1   </td><td>1   </td><td> NaN</td><td>0.00</td><td>1.0 </td></tr>\n",
       "</tbody>\n",
       "</table>\n"
      ],
      "text/latex": [
       "\\begin{tabular}{r|lllll}\n",
       " Total\\_Conversion & Approved\\_Conversion & CPC & CPM & CVR\\\\\n",
       "\\hline\n",
       "\t 2    & 1    & 1.43 & 0.19 & 0.5 \\\\\n",
       "\t 2    & 0    & 0.91 & 0.10 & 0.0 \\\\\n",
       "\t 1    & 0    &  NaN & 0.00 & 0.0 \\\\\n",
       "\t 1    & 0    & 1.25 & 0.29 & 0.0 \\\\\n",
       "\t 1    & 1    & 1.29 & 0.31 & 1.0 \\\\\n",
       "\t 1    & 1    &  NaN & 0.00 & 1.0 \\\\\n",
       "\\end{tabular}\n"
      ],
      "text/markdown": [
       "\n",
       "| Total_Conversion | Approved_Conversion | CPC | CPM | CVR |\n",
       "|---|---|---|---|---|\n",
       "| 2    | 1    | 1.43 | 0.19 | 0.5  |\n",
       "| 2    | 0    | 0.91 | 0.10 | 0.0  |\n",
       "| 1    | 0    |  NaN | 0.00 | 0.0  |\n",
       "| 1    | 0    | 1.25 | 0.29 | 0.0  |\n",
       "| 1    | 1    | 1.29 | 0.31 | 1.0  |\n",
       "| 1    | 1    |  NaN | 0.00 | 1.0  |\n",
       "\n"
      ],
      "text/plain": [
       "  Total_Conversion Approved_Conversion CPC  CPM  CVR\n",
       "1 2                1                   1.43 0.19 0.5\n",
       "2 2                0                   0.91 0.10 0.0\n",
       "3 1                0                    NaN 0.00 0.0\n",
       "4 1                0                   1.25 0.29 0.0\n",
       "5 1                1                   1.29 0.31 1.0\n",
       "6 1                1                    NaN 0.00 1.0"
      ]
     },
     "metadata": {},
     "output_type": "display_data"
    }
   ],
   "source": [
    "head(data_2)"
   ]
  },
  {
   "cell_type": "code",
   "execution_count": 29,
   "id": "41a7fb72",
   "metadata": {},
   "outputs": [
    {
     "data": {
      "text/html": [
       "<dl class=dl-horizontal>\n",
       "\t<dt>Total_Conversion</dt>\n",
       "\t\t<dd>0</dd>\n",
       "\t<dt>Approved_Conversion</dt>\n",
       "\t\t<dd>0</dd>\n",
       "\t<dt>CPC</dt>\n",
       "\t\t<dd>207</dd>\n",
       "\t<dt>CPM</dt>\n",
       "\t\t<dd>0</dd>\n",
       "\t<dt>CVR</dt>\n",
       "\t\t<dd>8</dd>\n",
       "</dl>\n"
      ],
      "text/latex": [
       "\\begin{description*}\n",
       "\\item[Total\\textbackslash{}\\_Conversion] 0\n",
       "\\item[Approved\\textbackslash{}\\_Conversion] 0\n",
       "\\item[CPC] 207\n",
       "\\item[CPM] 0\n",
       "\\item[CVR] 8\n",
       "\\end{description*}\n"
      ],
      "text/markdown": [
       "Total_Conversion\n",
       ":   0Approved_Conversion\n",
       ":   0CPC\n",
       ":   207CPM\n",
       ":   0CVR\n",
       ":   8\n",
       "\n"
      ],
      "text/plain": [
       "   Total_Conversion Approved_Conversion                 CPC                 CPM \n",
       "                  0                   0                 207                   0 \n",
       "                CVR \n",
       "                  8 "
      ]
     },
     "metadata": {},
     "output_type": "display_data"
    }
   ],
   "source": [
    "# Count total missing values in each column of the dataframe\n",
    "sapply(data_2, function(x) sum(is.na(x)))"
   ]
  },
  {
   "cell_type": "code",
   "execution_count": 30,
   "id": "87d32d36",
   "metadata": {},
   "outputs": [
    {
     "data": {
      "text/html": [
       "<dl class=dl-horizontal>\n",
       "\t<dt>Total_Conversion</dt>\n",
       "\t\t<dd>0</dd>\n",
       "\t<dt>Approved_Conversion</dt>\n",
       "\t\t<dd>0</dd>\n",
       "\t<dt>CPC</dt>\n",
       "\t\t<dd>18.1102362204724</dd>\n",
       "\t<dt>CPM</dt>\n",
       "\t\t<dd>0</dd>\n",
       "\t<dt>CVR</dt>\n",
       "\t\t<dd>0.699912510936133</dd>\n",
       "</dl>\n"
      ],
      "text/latex": [
       "\\begin{description*}\n",
       "\\item[Total\\textbackslash{}\\_Conversion] 0\n",
       "\\item[Approved\\textbackslash{}\\_Conversion] 0\n",
       "\\item[CPC] 18.1102362204724\n",
       "\\item[CPM] 0\n",
       "\\item[CVR] 0.699912510936133\n",
       "\\end{description*}\n"
      ],
      "text/markdown": [
       "Total_Conversion\n",
       ":   0Approved_Conversion\n",
       ":   0CPC\n",
       ":   18.1102362204724CPM\n",
       ":   0CVR\n",
       ":   0.699912510936133\n",
       "\n"
      ],
      "text/plain": [
       "   Total_Conversion Approved_Conversion                 CPC                 CPM \n",
       "          0.0000000           0.0000000          18.1102362           0.0000000 \n",
       "                CVR \n",
       "          0.6999125 "
      ]
     },
     "metadata": {},
     "output_type": "display_data"
    }
   ],
   "source": [
    "# Calculate the percentage of missing values in each column\n",
    "(colMeans(is.na(data_2)))*100"
   ]
  },
  {
   "cell_type": "code",
   "execution_count": null,
   "id": "b185e1a4",
   "metadata": {},
   "outputs": [],
   "source": [
    "# # Remove missing values\n",
    "# data_2 <- na.omit(data_2)"
   ]
  },
  {
   "cell_type": "code",
   "execution_count": 31,
   "id": "218599ac",
   "metadata": {},
   "outputs": [],
   "source": [
    "# Fill in missing values with the mean\n",
    "data_2$CPC[is.na(data_2$CPC)] <- mean(data_2$CPC, na.rm=T)\n",
    "data_2$CVR[is.na(data_2$CVR)] <- mean(data_2$CVR, na.rm=T)"
   ]
  },
  {
   "cell_type": "code",
   "execution_count": 32,
   "id": "05b29ff7",
   "metadata": {},
   "outputs": [
    {
     "data": {
      "text/html": [
       "<dl class=dl-horizontal>\n",
       "\t<dt>Total_Conversion</dt>\n",
       "\t\t<dd>0</dd>\n",
       "\t<dt>Approved_Conversion</dt>\n",
       "\t\t<dd>0</dd>\n",
       "\t<dt>CPC</dt>\n",
       "\t\t<dd>0</dd>\n",
       "\t<dt>CPM</dt>\n",
       "\t\t<dd>0</dd>\n",
       "\t<dt>CVR</dt>\n",
       "\t\t<dd>0</dd>\n",
       "</dl>\n"
      ],
      "text/latex": [
       "\\begin{description*}\n",
       "\\item[Total\\textbackslash{}\\_Conversion] 0\n",
       "\\item[Approved\\textbackslash{}\\_Conversion] 0\n",
       "\\item[CPC] 0\n",
       "\\item[CPM] 0\n",
       "\\item[CVR] 0\n",
       "\\end{description*}\n"
      ],
      "text/markdown": [
       "Total_Conversion\n",
       ":   0Approved_Conversion\n",
       ":   0CPC\n",
       ":   0CPM\n",
       ":   0CVR\n",
       ":   0\n",
       "\n"
      ],
      "text/plain": [
       "   Total_Conversion Approved_Conversion                 CPC                 CPM \n",
       "                  0                   0                   0                   0 \n",
       "                CVR \n",
       "                  0 "
      ]
     },
     "metadata": {},
     "output_type": "display_data"
    }
   ],
   "source": [
    "# Verify whether we handled all missing values\n",
    "(colMeans(is.na(data_2)))*100"
   ]
  },
  {
   "cell_type": "code",
   "execution_count": 33,
   "id": "b1ed0522",
   "metadata": {},
   "outputs": [
    {
     "data": {
      "text/html": [
       "<table>\n",
       "<thead><tr><th></th><th scope=col>CPC</th><th scope=col>CPM</th><th scope=col>CVR</th><th scope=col>Total_Conversion</th><th scope=col>Approved_Conversion</th></tr></thead>\n",
       "<tbody>\n",
       "\t<tr><th scope=row>CPC</th><td> 1.000</td><td>-0.020</td><td> 0.018</td><td> 0.158</td><td>0.166 </td></tr>\n",
       "\t<tr><th scope=row>CPM</th><td>-0.020</td><td> 1.000</td><td>-0.001</td><td> 0.049</td><td>0.031 </td></tr>\n",
       "\t<tr><th scope=row>CVR</th><td> 0.018</td><td>-0.001</td><td> 1.000</td><td>-0.014</td><td>0.317 </td></tr>\n",
       "\t<tr><th scope=row>Total_Conversion</th><td> 0.158</td><td> 0.049</td><td>-0.014</td><td> 1.000</td><td>0.864 </td></tr>\n",
       "\t<tr><th scope=row>Approved_Conversion</th><td> 0.166</td><td> 0.031</td><td> 0.317</td><td> 0.864</td><td>1.000 </td></tr>\n",
       "</tbody>\n",
       "</table>\n"
      ],
      "text/latex": [
       "\\begin{tabular}{r|lllll}\n",
       "  & CPC & CPM & CVR & Total\\_Conversion & Approved\\_Conversion\\\\\n",
       "\\hline\n",
       "\tCPC &  1.000 & -0.020 &  0.018 &  0.158 & 0.166 \\\\\n",
       "\tCPM & -0.020 &  1.000 & -0.001 &  0.049 & 0.031 \\\\\n",
       "\tCVR &  0.018 & -0.001 &  1.000 & -0.014 & 0.317 \\\\\n",
       "\tTotal\\_Conversion &  0.158 &  0.049 & -0.014 &  1.000 & 0.864 \\\\\n",
       "\tApproved\\_Conversion &  0.166 &  0.031 &  0.317 &  0.864 & 1.000 \\\\\n",
       "\\end{tabular}\n"
      ],
      "text/markdown": [
       "\n",
       "| <!--/--> | CPC | CPM | CVR | Total_Conversion | Approved_Conversion |\n",
       "|---|---|---|---|---|---|\n",
       "| CPC |  1.000 | -0.020 |  0.018 |  0.158 | 0.166  |\n",
       "| CPM | -0.020 |  1.000 | -0.001 |  0.049 | 0.031  |\n",
       "| CVR |  0.018 | -0.001 |  1.000 | -0.014 | 0.317  |\n",
       "| Total_Conversion |  0.158 |  0.049 | -0.014 |  1.000 | 0.864  |\n",
       "| Approved_Conversion |  0.166 |  0.031 |  0.317 |  0.864 | 1.000  |\n",
       "\n"
      ],
      "text/plain": [
       "                    CPC    CPM    CVR    Total_Conversion Approved_Conversion\n",
       "CPC                  1.000 -0.020  0.018  0.158           0.166              \n",
       "CPM                 -0.020  1.000 -0.001  0.049           0.031              \n",
       "CVR                  0.018 -0.001  1.000 -0.014           0.317              \n",
       "Total_Conversion     0.158  0.049 -0.014  1.000           0.864              \n",
       "Approved_Conversion  0.166  0.031  0.317  0.864           1.000              "
      ]
     },
     "metadata": {},
     "output_type": "display_data"
    }
   ],
   "source": [
    "# Create correlation matrix between each pairwise combination of numeric variables (rounded to 3 decimal places) \n",
    "# to view the linear correlation coefficients between each pair of variables\n",
    "\n",
    "round(cor(data_2[c(\"CPC\", \"CPM\", \"CVR\", \"Total_Conversion\", \"Approved_Conversion\")]),3)"
   ]
  },
  {
   "cell_type": "code",
   "execution_count": 44,
   "id": "ea06b3e2",
   "metadata": {},
   "outputs": [
    {
     "data": {
      "image/png": "[encoded data removed]",
      "text/plain": [
       "plot without title"
      ]
     },
     "metadata": {},
     "output_type": "display_data"
    }
   ],
   "source": [
    "# Use the ggpairs() function to check if the predictor variables have a linear association with the response variable\n",
    "ggpairs(data_2)"
   ]
  },
  {
   "cell_type": "code",
   "execution_count": 34,
   "id": "d6555583",
   "metadata": {
    "scrolled": true
   },
   "outputs": [
    {
     "name": "stderr",
     "output_type": "stream",
     "text": [
      "`stat_bin()` using `bins = 30`. Pick better value with `binwidth`.\n",
      "`stat_bin()` using `bins = 30`. Pick better value with `binwidth`.\n",
      "`stat_bin()` using `bins = 30`. Pick better value with `binwidth`.\n",
      "`stat_bin()` using `bins = 30`. Pick better value with `binwidth`.\n",
      "`stat_bin()` using `bins = 30`. Pick better value with `binwidth`.\n"
     ]
    },
    {
     "data": {
      "image/png": "[encoded data removed]",
      "text/plain": [
       "plot without title"
      ]
     },
     "metadata": {},
     "output_type": "display_data"
    }
   ],
   "source": [
    "# Univariate visualization of the continuous variables \n",
    "# Plot histograms to get a sense of their distribution\n",
    "\n",
    "h1 <- ggplot(data_2, aes(x=CPC)) + \n",
    "    geom_histogram() +\n",
    "    ggtitle(\"Histogram of CPC\")\n",
    "\n",
    "h2 <- ggplot(data_2, aes(x=CPM)) + \n",
    "    geom_histogram() +\n",
    "    ggtitle(\"Histogram of CPM\")\n",
    "\n",
    "h3 <- ggplot(data_2, aes(x=CVR)) + \n",
    "    geom_histogram() +\n",
    "    ggtitle(\"Histogram of CVR\")\n",
    "\n",
    "h4 <- ggplot(data_2, aes(x=Total_Conversion)) + \n",
    "    geom_histogram() +\n",
    "    ggtitle(\"Histogram of Total_Conversion\")\n",
    "\n",
    "h5 <- ggplot(data_2, aes(x=Approved_Conversion)) + \n",
    "    geom_histogram() +\n",
    "    ggtitle(\"Histogram of Approved_Conversion\")\n",
    "\n",
    "ggarrange(h1, h2, h3, h4, h5, ncol=2, nrow=3)"
   ]
  },
  {
   "cell_type": "code",
   "execution_count": 35,
   "id": "9709013e",
   "metadata": {},
   "outputs": [
    {
     "data": {
      "text/plain": [
       " Total_Conversion Approved_Conversion      CPC             CPM        \n",
       " Min.   : 0.000   Min.   : 0.000      Min.   :0.180   Min.   :0.0000  \n",
       " 1st Qu.: 1.000   1st Qu.: 0.000      1st Qu.:1.414   1st Qu.:0.1500  \n",
       " Median : 1.000   Median : 1.000      Median :1.499   Median :0.2500  \n",
       " Mean   : 2.856   Mean   : 0.944      Mean   :1.499   Mean   :0.2392  \n",
       " 3rd Qu.: 3.000   3rd Qu.: 1.000      3rd Qu.:1.600   3rd Qu.:0.3300  \n",
       " Max.   :60.000   Max.   :21.000      Max.   :2.212   Max.   :1.5000  \n",
       "      CVR        \n",
       " Min.   :0.0000  \n",
       " 1st Qu.:0.0000  \n",
       " Median :0.1667  \n",
       " Mean   :0.3391  \n",
       " 3rd Qu.:0.5455  \n",
       " Max.   :1.0000  "
      ]
     },
     "metadata": {},
     "output_type": "display_data"
    }
   ],
   "source": [
    "summary(data_2)"
   ]
  },
  {
   "cell_type": "markdown",
   "id": "60db1a42",
   "metadata": {},
   "source": [
    "### **Modelling**"
   ]
  },
  {
   "cell_type": "code",
   "execution_count": 36,
   "id": "2399d5f4",
   "metadata": {},
   "outputs": [],
   "source": [
    "# Split Data Into Training & Test Set\n",
    "\n",
    "# Use 70% of dataset as training set and remaining 30% as testing set\n",
    "sample <- sample(c(TRUE, FALSE), nrow(data_2), replace=TRUE, prob=c(0.7, 0.3))\n",
    "train <- data_2[sample,]\n",
    "test <- data_2[!sample,]"
   ]
  },
  {
   "cell_type": "code",
   "execution_count": 37,
   "id": "9de8d636",
   "metadata": {},
   "outputs": [
    {
     "data": {
      "text/html": [
       "<ol class=list-inline>\n",
       "\t<li>810</li>\n",
       "\t<li>5</li>\n",
       "</ol>\n"
      ],
      "text/latex": [
       "\\begin{enumerate*}\n",
       "\\item 810\n",
       "\\item 5\n",
       "\\end{enumerate*}\n"
      ],
      "text/markdown": [
       "1. 810\n",
       "2. 5\n",
       "\n",
       "\n"
      ],
      "text/plain": [
       "[1] 810   5"
      ]
     },
     "metadata": {},
     "output_type": "display_data"
    }
   ],
   "source": [
    "# View dimensions of training set\n",
    "dim(train)"
   ]
  },
  {
   "cell_type": "code",
   "execution_count": 38,
   "id": "a2e49987",
   "metadata": {
    "scrolled": true
   },
   "outputs": [
    {
     "data": {
      "text/html": [
       "<ol class=list-inline>\n",
       "\t<li>333</li>\n",
       "\t<li>5</li>\n",
       "</ol>\n"
      ],
      "text/latex": [
       "\\begin{enumerate*}\n",
       "\\item 333\n",
       "\\item 5\n",
       "\\end{enumerate*}\n"
      ],
      "text/markdown": [
       "1. 333\n",
       "2. 5\n",
       "\n",
       "\n"
      ],
      "text/plain": [
       "[1] 333   5"
      ]
     },
     "metadata": {},
     "output_type": "display_data"
    }
   ],
   "source": [
    "# View dimensions of test set\n",
    "dim(test)"
   ]
  },
  {
   "cell_type": "code",
   "execution_count": 39,
   "id": "31453578",
   "metadata": {},
   "outputs": [
    {
     "data": {
      "text/html": [
       "<table>\n",
       "<thead><tr><th></th><th scope=col>Total_Conversion</th><th scope=col>Approved_Conversion</th><th scope=col>CPC</th><th scope=col>CPM</th><th scope=col>CVR</th></tr></thead>\n",
       "<tbody>\n",
       "\t<tr><th scope=row>2</th><td>2       </td><td>0       </td><td>0.910000</td><td>0.10    </td><td>0       </td></tr>\n",
       "\t<tr><th scope=row>3</th><td>1       </td><td>0       </td><td>1.499347</td><td>0.00    </td><td>0       </td></tr>\n",
       "\t<tr><th scope=row>5</th><td>1       </td><td>1       </td><td>1.290000</td><td>0.31    </td><td>1       </td></tr>\n",
       "\t<tr><th scope=row>6</th><td>1       </td><td>1       </td><td>1.499347</td><td>0.00    </td><td>1       </td></tr>\n",
       "\t<tr><th scope=row>7</th><td>1       </td><td>0       </td><td>1.590000</td><td>0.31    </td><td>0       </td></tr>\n",
       "\t<tr><th scope=row>8</th><td>1       </td><td>1       </td><td>1.270000</td><td>0.12    </td><td>1       </td></tr>\n",
       "</tbody>\n",
       "</table>\n"
      ],
      "text/latex": [
       "\\begin{tabular}{r|lllll}\n",
       "  & Total\\_Conversion & Approved\\_Conversion & CPC & CPM & CVR\\\\\n",
       "\\hline\n",
       "\t2 & 2        & 0        & 0.910000 & 0.10     & 0       \\\\\n",
       "\t3 & 1        & 0        & 1.499347 & 0.00     & 0       \\\\\n",
       "\t5 & 1        & 1        & 1.290000 & 0.31     & 1       \\\\\n",
       "\t6 & 1        & 1        & 1.499347 & 0.00     & 1       \\\\\n",
       "\t7 & 1        & 0        & 1.590000 & 0.31     & 0       \\\\\n",
       "\t8 & 1        & 1        & 1.270000 & 0.12     & 1       \\\\\n",
       "\\end{tabular}\n"
      ],
      "text/markdown": [
       "\n",
       "| <!--/--> | Total_Conversion | Approved_Conversion | CPC | CPM | CVR |\n",
       "|---|---|---|---|---|---|\n",
       "| 2 | 2        | 0        | 0.910000 | 0.10     | 0        |\n",
       "| 3 | 1        | 0        | 1.499347 | 0.00     | 0        |\n",
       "| 5 | 1        | 1        | 1.290000 | 0.31     | 1        |\n",
       "| 6 | 1        | 1        | 1.499347 | 0.00     | 1        |\n",
       "| 7 | 1        | 0        | 1.590000 | 0.31     | 0        |\n",
       "| 8 | 1        | 1        | 1.270000 | 0.12     | 1        |\n",
       "\n"
      ],
      "text/plain": [
       "  Total_Conversion Approved_Conversion CPC      CPM  CVR\n",
       "2 2                0                   0.910000 0.10 0  \n",
       "3 1                0                   1.499347 0.00 0  \n",
       "5 1                1                   1.290000 0.31 1  \n",
       "6 1                1                   1.499347 0.00 1  \n",
       "7 1                0                   1.590000 0.31 0  \n",
       "8 1                1                   1.270000 0.12 1  "
      ]
     },
     "metadata": {},
     "output_type": "display_data"
    }
   ],
   "source": [
    "head(train)"
   ]
  },
  {
   "cell_type": "code",
   "execution_count": 40,
   "id": "82a0cfcd",
   "metadata": {},
   "outputs": [
    {
     "data": {
      "text/html": [
       "<table>\n",
       "<thead><tr><th></th><th scope=col>Total_Conversion</th><th scope=col>Approved_Conversion</th><th scope=col>CPC</th><th scope=col>CPM</th><th scope=col>CVR</th></tr></thead>\n",
       "<tbody>\n",
       "\t<tr><th scope=row>1</th><td>2       </td><td>1       </td><td>1.430000</td><td>0.19    </td><td>0.5     </td></tr>\n",
       "\t<tr><th scope=row>4</th><td>1       </td><td>0       </td><td>1.250000</td><td>0.29    </td><td>0.0     </td></tr>\n",
       "\t<tr><th scope=row>10</th><td>1       </td><td>0       </td><td>1.053333</td><td>0.33    </td><td>0.0     </td></tr>\n",
       "\t<tr><th scope=row>15</th><td>1       </td><td>1       </td><td>1.468571</td><td>0.70    </td><td>1.0     </td></tr>\n",
       "\t<tr><th scope=row>16</th><td>1       </td><td>1       </td><td>1.499347</td><td>0.00    </td><td>1.0     </td></tr>\n",
       "\t<tr><th scope=row>17</th><td>1       </td><td>0       </td><td>0.570000</td><td>0.25    </td><td>0.0     </td></tr>\n",
       "</tbody>\n",
       "</table>\n"
      ],
      "text/latex": [
       "\\begin{tabular}{r|lllll}\n",
       "  & Total\\_Conversion & Approved\\_Conversion & CPC & CPM & CVR\\\\\n",
       "\\hline\n",
       "\t1 & 2        & 1        & 1.430000 & 0.19     & 0.5     \\\\\n",
       "\t4 & 1        & 0        & 1.250000 & 0.29     & 0.0     \\\\\n",
       "\t10 & 1        & 0        & 1.053333 & 0.33     & 0.0     \\\\\n",
       "\t15 & 1        & 1        & 1.468571 & 0.70     & 1.0     \\\\\n",
       "\t16 & 1        & 1        & 1.499347 & 0.00     & 1.0     \\\\\n",
       "\t17 & 1        & 0        & 0.570000 & 0.25     & 0.0     \\\\\n",
       "\\end{tabular}\n"
      ],
      "text/markdown": [
       "\n",
       "| <!--/--> | Total_Conversion | Approved_Conversion | CPC | CPM | CVR |\n",
       "|---|---|---|---|---|---|\n",
       "| 1 | 2        | 1        | 1.430000 | 0.19     | 0.5      |\n",
       "| 4 | 1        | 0        | 1.250000 | 0.29     | 0.0      |\n",
       "| 10 | 1        | 0        | 1.053333 | 0.33     | 0.0      |\n",
       "| 15 | 1        | 1        | 1.468571 | 0.70     | 1.0      |\n",
       "| 16 | 1        | 1        | 1.499347 | 0.00     | 1.0      |\n",
       "| 17 | 1        | 0        | 0.570000 | 0.25     | 0.0      |\n",
       "\n"
      ],
      "text/plain": [
       "   Total_Conversion Approved_Conversion CPC      CPM  CVR\n",
       "1  2                1                   1.430000 0.19 0.5\n",
       "4  1                0                   1.250000 0.29 0.0\n",
       "10 1                0                   1.053333 0.33 0.0\n",
       "15 1                1                   1.468571 0.70 1.0\n",
       "16 1                1                   1.499347 0.00 1.0\n",
       "17 1                0                   0.570000 0.25 0.0"
      ]
     },
     "metadata": {},
     "output_type": "display_data"
    }
   ],
   "source": [
    "head(test)"
   ]
  },
  {
   "cell_type": "markdown",
   "id": "da4e7c10",
   "metadata": {},
   "source": [
    "**Model 1: Multiple Linear Regression**"
   ]
  },
  {
   "cell_type": "code",
   "execution_count": 46,
   "id": "64e659ff",
   "metadata": {},
   "outputs": [
    {
     "data": {
      "text/plain": [
       "\n",
       "Call:\n",
       "lm(formula = Approved_Conversion ~ ., data = train)\n",
       "\n",
       "Residuals:\n",
       "    Min      1Q  Median      3Q     Max \n",
       "-4.7384 -0.2430  0.1121  0.1896  7.0932 \n",
       "\n",
       "Coefficients:\n",
       "                  Estimate Std. Error t value Pr(>|t|)    \n",
       "(Intercept)      -0.885251   0.183144  -4.834 1.61e-06 ***\n",
       "Total_Conversion  0.339491   0.005312  63.916  < 2e-16 ***\n",
       "CPC               0.268738   0.118472   2.268   0.0236 *  \n",
       "CPM              -0.138875   0.153676  -0.904   0.3664    \n",
       "CVR               1.441699   0.063492  22.707  < 2e-16 ***\n",
       "---\n",
       "Signif. codes:  0 '***' 0.001 '**' 0.01 '*' 0.05 '.' 0.1 ' ' 1\n",
       "\n",
       "Residual standard error: 0.7155 on 805 degrees of freedom\n",
       "Multiple R-squared:  0.8548,\tAdjusted R-squared:  0.8541 \n",
       "F-statistic:  1185 on 4 and 805 DF,  p-value: < 2.2e-16\n"
      ]
     },
     "metadata": {},
     "output_type": "display_data"
    }
   ],
   "source": [
    "# Fit a multiple linear regression model\n",
    "\n",
    "# Linear-Linear model\n",
    "lin_lin_model <- lm(Approved_Conversion~., data = train)\n",
    "summary(lin_lin_model)"
   ]
  },
  {
   "cell_type": "code",
   "execution_count": 49,
   "id": "6fd5e630",
   "metadata": {},
   "outputs": [
    {
     "data": {
      "text/plain": [
       "\n",
       "Call:\n",
       "lm(formula = log(Approved_Conversion + 1) ~ ., data = train)\n",
       "\n",
       "Residuals:\n",
       "     Min       1Q   Median       3Q      Max \n",
       "-2.36706 -0.14078 -0.02931  0.13029  0.67326 \n",
       "\n",
       "Coefficients:\n",
       "                  Estimate Std. Error t value Pr(>|t|)    \n",
       "(Intercept)      -0.297460   0.057331  -5.188 2.69e-07 ***\n",
       "Total_Conversion  0.083509   0.001663  50.224  < 2e-16 ***\n",
       "CPC               0.157754   0.037086   4.254 2.35e-05 ***\n",
       "CPM               0.068371   0.048107   1.421    0.156    \n",
       "CVR               0.822579   0.019875  41.387  < 2e-16 ***\n",
       "---\n",
       "Signif. codes:  0 '***' 0.001 '**' 0.01 '*' 0.05 '.' 0.1 ' ' 1\n",
       "\n",
       "Residual standard error: 0.224 on 805 degrees of freedom\n",
       "Multiple R-squared:  0.8441,\tAdjusted R-squared:  0.8433 \n",
       "F-statistic:  1090 on 4 and 805 DF,  p-value: < 2.2e-16\n"
      ]
     },
     "metadata": {},
     "output_type": "display_data"
    }
   ],
   "source": [
    "# Log-Linear model\n",
    "log_lin_model <- lm(log(Approved_Conversion+1)~., data = train)\n",
    "summary(log_lin_model)"
   ]
  },
  {
   "cell_type": "code",
   "execution_count": 52,
   "id": "30bf332c",
   "metadata": {},
   "outputs": [
    {
     "data": {
      "text/plain": [
       "\n",
       "Call:\n",
       "lm(formula = log(Approved_Conversion + 1) ~ log(Total_Conversion + \n",
       "    1) + log(CPC) + log(CPM + 1) + log(CVR + 1), data = train)\n",
       "\n",
       "Residuals:\n",
       "     Min       1Q   Median       3Q      Max \n",
       "-1.06809 -0.07092  0.05423  0.08532  0.70483 \n",
       "\n",
       "Coefficients:\n",
       "                           Estimate Std. Error t value Pr(>|t|)    \n",
       "(Intercept)               -0.527898   0.018782 -28.106   <2e-16 ***\n",
       "log(Total_Conversion + 1)  0.640317   0.009373  68.316   <2e-16 ***\n",
       "log(CPC)                   0.073666   0.032913   2.238   0.0255 *  \n",
       "log(CPM + 1)              -0.110883   0.045735  -2.424   0.0155 *  \n",
       "log(CVR + 1)               1.211063   0.021107  57.376   <2e-16 ***\n",
       "---\n",
       "Signif. codes:  0 '***' 0.001 '**' 0.01 '*' 0.05 '.' 0.1 ' ' 1\n",
       "\n",
       "Residual standard error: 0.167 on 805 degrees of freedom\n",
       "Multiple R-squared:  0.9133,\tAdjusted R-squared:  0.9129 \n",
       "F-statistic:  2120 on 4 and 805 DF,  p-value: < 2.2e-16\n"
      ]
     },
     "metadata": {},
     "output_type": "display_data"
    }
   ],
   "source": [
    "# Log-Log model\n",
    "log_log_model <- lm(log(Approved_Conversion+1) ~ log(Total_Conversion+1) + log(CPC) + log(CPM+1) + log(CVR+1), data = train)\n",
    "summary(log_log_model)"
   ]
  },
  {
   "cell_type": "code",
   "execution_count": 53,
   "id": "8079e406",
   "metadata": {
    "scrolled": true
   },
   "outputs": [
    {
     "data": {
      "text/plain": [
       "\n",
       "Call:\n",
       "lm(formula = Approved_Conversion ~ log(Total_Conversion + 1) + \n",
       "    log(CPC) + log(CPM + 1) + log(CVR + 1), data = train)\n",
       "\n",
       "Residuals:\n",
       "    Min      1Q  Median      3Q     Max \n",
       "-3.4715 -0.3796  0.0433  0.3957 13.9151 \n",
       "\n",
       "Coefficients:\n",
       "                          Estimate Std. Error t value Pr(>|t|)    \n",
       "(Intercept)               -1.82910    0.12317 -14.850  < 2e-16 ***\n",
       "log(Total_Conversion + 1)  2.16158    0.06147  35.167  < 2e-16 ***\n",
       "log(CPC)                   0.20865    0.21584   0.967  0.33397    \n",
       "log(CPM + 1)              -0.77764    0.29992  -2.593  0.00969 ** \n",
       "log(CVR + 1)               2.10495    0.13842  15.207  < 2e-16 ***\n",
       "---\n",
       "Signif. codes:  0 '***' 0.001 '**' 0.01 '*' 0.05 '.' 0.1 ' ' 1\n",
       "\n",
       "Residual standard error: 1.095 on 805 degrees of freedom\n",
       "Multiple R-squared:  0.6596,\tAdjusted R-squared:  0.6579 \n",
       "F-statistic:   390 on 4 and 805 DF,  p-value: < 2.2e-16\n"
      ]
     },
     "metadata": {},
     "output_type": "display_data"
    }
   ],
   "source": [
    "# Lin-Log model\n",
    "lin_log_model <- lm(Approved_Conversion ~ log(Total_Conversion+1) + log(CPC) + log(CPM+1) + log(CVR+1), data = train)\n",
    "summary(lin_log_model)"
   ]
  },
  {
   "cell_type": "markdown",
   "id": "f72232fd",
   "metadata": {},
   "source": [
    "From the results we can see that the Log-Log model is the top performing model since it has the highest Adjusted R-squared value.\n",
    "\n",
    "Its Adjusted R-squared value is 0.9129. This means that 91.29% of the variation in the total number of people who bought the product after seeing the ad (Approved_Conversion), can be explained by the predictor variables in the model. "
   ]
  },
  {
   "cell_type": "code",
   "execution_count": null,
   "id": "7bcf03d2",
   "metadata": {},
   "outputs": [],
   "source": []
  }
 ],
 "metadata": {
  "kernelspec": {
   "display_name": "R",
   "language": "R",
   "name": "ir"
  },
  "language_info": {
   "codemirror_mode": "r",
   "file_extension": ".r",
   "mimetype": "text/x-r-source",
   "name": "R",
   "pygments_lexer": "r",
   "version": "3.6.1"
  }
 },
 "nbformat": 4,
 "nbformat_minor": 5
}
